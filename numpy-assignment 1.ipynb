{
 "cells": [
  {
   "cell_type": "code",
   "execution_count": 2,
   "id": "opposite-squad",
   "metadata": {},
   "outputs": [],
   "source": [
    "import numpy as np"
   ]
  },
  {
   "cell_type": "code",
   "execution_count": 6,
   "id": "sunset-prediction",
   "metadata": {},
   "outputs": [
    {
     "data": {
      "text/plain": [
       "array([-0.94790364, -0.24299807, -1.28768009, -1.97054733,  0.00541668,\n",
       "       -0.91617317,  1.05292632, -1.31534444,  0.79795901,  0.12108801,\n",
       "        0.09717511,  0.5679084 ,  0.12646635, -0.79437088,  0.27231853,\n",
       "       -1.19255824,  1.89984   ,  0.37842785,  1.29814132, -0.58668496,\n",
       "        0.29550575,  0.29522223,  0.75382583,  0.36722844,  1.42255722])"
      ]
     },
     "execution_count": 6,
     "metadata": {},
     "output_type": "execute_result"
    }
   ],
   "source": [
    "#1.Use numpy to generate array of 25 random numbers sampled from a standard normal distribution\n",
    "\n",
    "array = np.random.randn(25)\n",
    "array"
   ]
  },
  {
   "cell_type": "code",
   "execution_count": 16,
   "id": "dental-harrison",
   "metadata": {},
   "outputs": [
    {
     "name": "stdout",
     "output_type": "stream",
     "text": [
      "[67 84  5 90  8 83 63 48 85 60 49 74 27 13  9 61 15 93 98 59 18 14 93 56\n",
      "  9 51 68 53 53 71]\n",
      "52.56666666666667\n"
     ]
    }
   ],
   "source": [
    "#2.Create a random vector of size 30 and find the mean value.\n",
    "np.random.seed(8)\n",
    "arr=np.random.randint(0,100,30)\n",
    "print(arr)\n",
    "print(np.mean(arr,axis=0))"
   ]
  },
  {
   "cell_type": "code",
   "execution_count": 17,
   "id": "liked-german",
   "metadata": {},
   "outputs": [
    {
     "data": {
      "text/plain": [
       "array([[60, 43, 27, 67, 10, 82, 16, 93, 92, 64],\n",
       "       [87, 32, 21, 46, 22, 73, 93, 29, 96, 48],\n",
       "       [11, 65,  8, 46,  3, 39, 72, 96, 37, 90],\n",
       "       [61, 92, 69, 38, 67, 83, 39, 55, 87, 40],\n",
       "       [47,  7, 96, 33, 74, 99,  8, 10, 99, 43],\n",
       "       [20, 60, 49, 10, 17, 79, 56, 56, 21, 99],\n",
       "       [88, 99, 25,  7, 29,  6, 67, 20, 76, 12],\n",
       "       [47, 93, 73, 56, 90, 15, 40, 16, 20, 59],\n",
       "       [44, 16, 29, 33, 42, 17, 75, 34, 67, 71],\n",
       "       [63,  8, 84,  9, 35, 42, 46, 23, 77, 93]])"
      ]
     },
     "execution_count": 17,
     "metadata": {},
     "output_type": "execute_result"
    }
   ],
   "source": [
    "#3.Insert 1 to 100 numbers in a numpy array and reshape it to 10*10 matrix.\n",
    "arr=np.random.randint(1,100,(10,10))\n",
    "arr"
   ]
  },
  {
   "cell_type": "code",
   "execution_count": 10,
   "id": "adequate-confidentiality",
   "metadata": {},
   "outputs": [
    {
     "name": "stdout",
     "output_type": "stream",
     "text": [
      "2\n",
      "99\n"
     ]
    }
   ],
   "source": [
    "#4.Create a 10x10 array with random values and find the minimum and maximum values.\n",
    "arr=np.random.randint(1,100,(10,10))\n",
    "print(np.min(arr))\n",
    "print(np.max(arr))"
   ]
  },
  {
   "cell_type": "code",
   "execution_count": 11,
   "id": "functioning-number",
   "metadata": {},
   "outputs": [
    {
     "name": "stdout",
     "output_type": "stream",
     "text": [
      "14\n"
     ]
    }
   ],
   "source": [
    "#5.Find Dot product of two arrays\n",
    "f = np.array([1,2])\n",
    "g = np.array([4,5])\n",
    "print(np.dot(f,g))"
   ]
  },
  {
   "cell_type": "code",
   "execution_count": 13,
   "id": "blond-provincial",
   "metadata": {},
   "outputs": [
    {
     "name": "stdout",
     "output_type": "stream",
     "text": [
      "[[1 2]\n",
      " [3 4]\n",
      " [5 6]]\n"
     ]
    }
   ],
   "source": [
    "#6.Concatenate following arrays along axis=0\n",
    "x=np.array([[1,2],[3,4]])\n",
    "y=np.array([[5,6]])\n",
    "comb = np.concatenate((x,y), axis = 0)\n",
    "print(comb)"
   ]
  },
  {
   "cell_type": "code",
   "execution_count": 14,
   "id": "cultural-substance",
   "metadata": {},
   "outputs": [
    {
     "name": "stdout",
     "output_type": "stream",
     "text": [
      "[2 4]\n"
     ]
    }
   ],
   "source": [
    "#7.How to get the common items between two python numpy arrays?\n",
    "\n",
    "a = np.array([1,2,3,2,3,4,3,4,5,6])\n",
    "b = np.array([7,2,10,2,7,4,9,4,9,8])\n",
    "common = np.intersect1d(a,b)\n",
    "print(common)"
   ]
  },
  {
   "cell_type": "code",
   "execution_count": 15,
   "id": "delayed-ontario",
   "metadata": {},
   "outputs": [
    {
     "name": "stdout",
     "output_type": "stream",
     "text": [
      "[ 1  2  3  4  5  7  8 10]\n"
     ]
    }
   ],
   "source": [
    "#8.Sort the numpy array:\n",
    "\n",
    "arr = np.array([10,5,8,4,7,2,3,1])\n",
    "print(np.sort(arr))"
   ]
  },
  {
   "cell_type": "code",
   "execution_count": null,
   "id": "empty-checklist",
   "metadata": {},
   "outputs": [],
   "source": []
  }
 ],
 "metadata": {
  "kernelspec": {
   "display_name": "Python 3",
   "language": "python",
   "name": "python3"
  },
  "language_info": {
   "codemirror_mode": {
    "name": "ipython",
    "version": 3
   },
   "file_extension": ".py",
   "mimetype": "text/x-python",
   "name": "python",
   "nbconvert_exporter": "python",
   "pygments_lexer": "ipython3",
   "version": "3.9.2"
  }
 },
 "nbformat": 4,
 "nbformat_minor": 5
}
